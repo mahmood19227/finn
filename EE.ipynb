{
 "cells": [
  {
   "cell_type": "code",
   "execution_count": null,
   "metadata": {},
   "outputs": [],
   "source": [
    "import geemap\n",
    "countries_shp = '../data/countries.shp'\n",
    "countries = geemap.shp_to_ee(countries_shp)\n",
    "Map.addLayer(countries, {}, 'Countries')"
   ]
  },
  {
   "cell_type": "code",
   "execution_count": 5,
   "metadata": {},
   "outputs": [
    {
     "name": "stdout",
     "output_type": "stream",
     "text": [
      "Point FeatureCollection's geometry:\n",
      "{'coordinates': [], 'geodesic': False, 'type': 'MultiPoint'}\n"
     ]
    }
   ],
   "source": [
    "from pprint import pprint\n",
    "import ee\n",
    "import geemap\n",
    "\n",
    "service_account = 'aseman-borj@ee-farokhian.iam.gserviceaccount.com'\n",
    "credentials = ee.ServiceAccountCredentials(service_account, '.private-key.json')\n",
    "ee.Initialize(credentials)\n",
    "\n",
    "table = geemap.shp_to_ee('ahwaz.shp')\n",
    "fc = ee.FeatureCollection(table).filter(\n",
    "    'country_lg == \"Belgium\"')\n",
    "\n",
    "print(\"Point FeatureCollection's geometry:\")\n",
    "pprint(fc.geometry().getInfo())"
   ]
  },
  {
   "cell_type": "code",
   "execution_count": 13,
   "metadata": {},
   "outputs": [
    {
     "ename": "AttributeError",
     "evalue": "'Geometry' object has no attribute 'cordinates'",
     "output_type": "error",
     "traceback": [
      "\u001b[1;31m---------------------------------------------------------------------------\u001b[0m",
      "\u001b[1;31mAttributeError\u001b[0m                            Traceback (most recent call last)",
      "\u001b[1;32mc:\\Projects\\finn (django-ee)\\EE.ipynb Cell 3\u001b[0m in \u001b[0;36m<cell line: 1>\u001b[1;34m()\u001b[0m\n\u001b[1;32m----> <a href='vscode-notebook-cell:/c%3A/Projects/finn%20%28django-ee%29/EE.ipynb#W2sZmlsZQ%3D%3D?line=0'>1</a>\u001b[0m table\u001b[39m.\u001b[39;49mgeometry()\u001b[39m.\u001b[39;49mbounds()\u001b[39m.\u001b[39;49mcordinates\n",
      "\u001b[1;31mAttributeError\u001b[0m: 'Geometry' object has no attribute 'cordinates'"
     ]
    }
   ],
   "source": [
    "table.geometry().bounds()"
   ]
  }
 ],
 "metadata": {
  "kernelspec": {
   "display_name": "base",
   "language": "python",
   "name": "python3"
  },
  "language_info": {
   "codemirror_mode": {
    "name": "ipython",
    "version": 3
   },
   "file_extension": ".py",
   "mimetype": "text/x-python",
   "name": "python",
   "nbconvert_exporter": "python",
   "pygments_lexer": "ipython3",
   "version": "3.9.12"
  },
  "orig_nbformat": 4
 },
 "nbformat": 4,
 "nbformat_minor": 2
}
